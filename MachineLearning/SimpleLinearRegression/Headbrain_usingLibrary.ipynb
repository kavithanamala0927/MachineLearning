{
 "cells": [
  {
   "cell_type": "code",
   "execution_count": 6,
   "metadata": {},
   "outputs": [
    {
     "name": "stdout",
     "output_type": "stream",
     "text": [
      "0.639311719957\n"
     ]
    }
   ],
   "source": [
    "from sklearn.linear_model import LinearRegression\n",
    "from sklearn.metrics import mean_squared_error\n",
    "import pandas as pd\n",
    "\n",
    "data = pd.read_csv(\"headbrain.csv\")\n",
    "X = data[\"Head Size(cm^3)\"].values\n",
    "Y = data[\"Brain Weight(grams)\"].values\n",
    "m = len(X)\n",
    "#cannot use rank 1 matrix in scikit learn\n",
    "X = X.reshape((m,1))\n",
    "#Creating model\n",
    "model = LinearRegression()\n",
    "#Fitting traning data\n",
    "model.fit(X,Y)\n",
    "#Y Prediction\n",
    "y_pred = model.predict(X)\n",
    "#Calculating R2 score\n",
    "r2_score = model.score(X, Y)\n",
    "print (r2_score)"
   ]
  },
  {
   "cell_type": "code",
   "execution_count": null,
   "metadata": {},
   "outputs": [],
   "source": []
  }
 ],
 "metadata": {
  "kernelspec": {
   "display_name": "Python 3",
   "language": "python",
   "name": "python3"
  },
  "language_info": {
   "codemirror_mode": {
    "name": "ipython",
    "version": 3
   },
   "file_extension": ".py",
   "mimetype": "text/x-python",
   "name": "python",
   "nbconvert_exporter": "python",
   "pygments_lexer": "ipython3",
   "version": "3.7.3"
  }
 },
 "nbformat": 4,
 "nbformat_minor": 2
}
